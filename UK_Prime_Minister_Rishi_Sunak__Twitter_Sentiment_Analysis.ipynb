{
  "nbformat": 4,
  "nbformat_minor": 0,
  "metadata": {
    "colab": {
      "provenance": [],
      "mount_file_id": "1uO116VDBQPDYxEWZdvnxAXvVRiBsboy9",
      "authorship_tag": "ABX9TyM6r/kozkwM2xnbhhA3X32E",
      "include_colab_link": true
    },
    "kernelspec": {
      "name": "python3",
      "display_name": "Python 3"
    },
    "language_info": {
      "name": "python"
    }
  },
  "cells": [
    {
      "cell_type": "markdown",
      "metadata": {
        "id": "view-in-github",
        "colab_type": "text"
      },
      "source": [
        "<a href=\"https://colab.research.google.com/github/MANISH-KUMAR-CODES/UK_Prime_Minister_Rishi_Sunak-_Twitter_Sentiment_Analysis/blob/main/UK_Prime_Minister_Rishi_Sunak__Twitter_Sentiment_Analysis.ipynb\" target=\"_parent\"><img src=\"https://colab.research.google.com/assets/colab-badge.svg\" alt=\"Open In Colab\"/></a>"
      ]
    },
    {
      "cell_type": "markdown",
      "source": [
        "##Dataset Information\n",
        "\n",
        "Rishi Sunak lost to Liz Truss in September, but she resigned six weeks later. In the latest leadership contest, Mr Sunak racked up the support of his fellow MPs early, and fast. He crossed the 100 nominations he needed long before the deadline - including from MPs that had previously backed Truss or Boris Johnson.\n",
        "BBC\n",
        "\n",
        "* Twitter Reaction to Rishi Sunak being elected as PM.\n",
        "* Sentimental Analysis can be performed on this dataset.\n",
        "\n",
        "Hashtags: #rishisunak, #rishisunakPM , Rishi Sunak\n",
        "* Dataset consists of 113578 tweets."
      ],
      "metadata": {
        "id": "Fsfk7r8ribU0"
      }
    },
    {
      "cell_type": "code",
      "execution_count": 40,
      "metadata": {
        "id": "D-aeMpiV9Z0v"
      },
      "outputs": [],
      "source": [
        "import pandas as pd\n",
        "import numpy as np \n",
        "import seaborn as sns\n",
        "import matplotlib.pyplot as plt\n",
        "import matplotlib.style as style\n",
        "%matplotlib inline\n",
        "import warnings\n",
        "warnings.filterwarnings('ignore')\n",
        "\n",
        "import re\n",
        "import string\n",
        "\n",
        "import nltk\n",
        "from nltk.probability import FreqDist\n",
        "from nltk.stem import WordNetLemmatizer\n",
        "from nltk.corpus import stopwords\n",
        "from nltk.stem import SnowballStemmer\n",
        "from nltk import pos_tag\n",
        "from nltk.stem import WordNetLemmatizer\n",
        "from nltk.tokenize import word_tokenize\n",
        "\n",
        "from wordcloud import WordCloud\n",
        "from tqdm.auto import tqdm"
      ]
    },
    {
      "cell_type": "code",
      "source": [
        "from google.colab import drive\n",
        "drive.mount('/content/drive')"
      ],
      "metadata": {
        "colab": {
          "base_uri": "https://localhost:8080/"
        },
        "id": "3MAIwmfZiJ4j",
        "outputId": "6192d04d-47ba-4e74-e3bc-9b692e41ac89"
      },
      "execution_count": 41,
      "outputs": [
        {
          "output_type": "stream",
          "name": "stdout",
          "text": [
            "Drive already mounted at /content/drive; to attempt to forcibly remount, call drive.mount(\"/content/drive\", force_remount=True).\n"
          ]
        }
      ]
    },
    {
      "cell_type": "code",
      "source": [
        "# read the csv file\n",
        "df = pd.read_csv('/content/drive/MyDrive/uk_pm.csv/uk_pm.csv')\n",
        "df = pd.DataFrame(df)"
      ],
      "metadata": {
        "id": "14LCxjp1jDi_"
      },
      "execution_count": 42,
      "outputs": []
    },
    {
      "cell_type": "markdown",
      "source": [
        "## Knowing our dataframe"
      ],
      "metadata": {
        "id": "a8flFb6zZVAv"
      }
    },
    {
      "cell_type": "code",
      "source": [
        "# checking head of our dataframe\n",
        "df.head(5)"
      ],
      "metadata": {
        "colab": {
          "base_uri": "https://localhost:8080/",
          "height": 513
        },
        "id": "5zZGFF5Ljk7U",
        "outputId": "304b7faf-158a-4592-d0c4-5b6dde77b000"
      },
      "execution_count": 43,
      "outputs": [
        {
          "output_type": "execute_result",
          "data": {
            "text/plain": [
              "                    id                                               text  \\\n",
              "0  1584696134693711873  @BritIndianVoice @RishiSunak #RishiSunak is #B...   \n",
              "1  1584696057841098752  #RishiSunak is the richest Tory MP in history....   \n",
              "2  1584695906091536385                                        #RishiSunak   \n",
              "3  1584695822658441217  A mountain full of money and a knowledge of pr...   \n",
              "4  1584695640696946688  @trussliz @RishiSunak Chance was been given as...   \n",
              "\n",
              "          username                                           hashtags  \\\n",
              "0      IsmailYSyed  ['RishiSunak', 'BritishHindu', 'Pakistani', 'P...   \n",
              "1       AdameMedia                                     ['RishiSunak']   \n",
              "2  ROHITKU96224077                                     ['RishiSunak']   \n",
              "3       Parisistas                                     ['RishiSunak']   \n",
              "4    baboo_prasant                                     ['RishiSunak']   \n",
              "\n",
              "                  created_at  user followers count  replycount  retweetcount  \\\n",
              "0  2022-10-24 23:59:35+00:00                   393           0             0   \n",
              "1  2022-10-24 23:59:17+00:00                  9830           3            23   \n",
              "2  2022-10-24 23:58:40+00:00                     3           0             0   \n",
              "3  2022-10-24 23:58:21+00:00                     0           0             0   \n",
              "4  2022-10-24 23:57:37+00:00                    14           0             0   \n",
              "\n",
              "   likecount  quotecount language  quotedtweet  inReplyToTweetId  \\\n",
              "0          0           0       en          NaN      1.584541e+18   \n",
              "1         68           4       en          NaN               NaN   \n",
              "2          0           0      qht          NaN               NaN   \n",
              "3          0           0       en          NaN               NaN   \n",
              "4          0           0       en          NaN      1.584546e+18   \n",
              "\n",
              "                         inReplyToUser  \\\n",
              "0  https://twitter.com/BritIndianVoice   \n",
              "1                                  NaN   \n",
              "2                                  NaN   \n",
              "3                                  NaN   \n",
              "4         https://twitter.com/trussliz   \n",
              "\n",
              "                                      mentionedUsers  \n",
              "0  @BritIndianVoice @RishiSunak #RishiSunak is #B...  \n",
              "1  #RishiSunak is the richest Tory MP in history....  \n",
              "2                                        #RishiSunak  \n",
              "3  A mountain full of money and a knowledge of pr...  \n",
              "4  @trussliz @RishiSunak Chance was been given as...  "
            ],
            "text/html": [
              "\n",
              "  <div id=\"df-63787ca5-382f-47ca-a296-e4eb817cf322\">\n",
              "    <div class=\"colab-df-container\">\n",
              "      <div>\n",
              "<style scoped>\n",
              "    .dataframe tbody tr th:only-of-type {\n",
              "        vertical-align: middle;\n",
              "    }\n",
              "\n",
              "    .dataframe tbody tr th {\n",
              "        vertical-align: top;\n",
              "    }\n",
              "\n",
              "    .dataframe thead th {\n",
              "        text-align: right;\n",
              "    }\n",
              "</style>\n",
              "<table border=\"1\" class=\"dataframe\">\n",
              "  <thead>\n",
              "    <tr style=\"text-align: right;\">\n",
              "      <th></th>\n",
              "      <th>id</th>\n",
              "      <th>text</th>\n",
              "      <th>username</th>\n",
              "      <th>hashtags</th>\n",
              "      <th>created_at</th>\n",
              "      <th>user followers count</th>\n",
              "      <th>replycount</th>\n",
              "      <th>retweetcount</th>\n",
              "      <th>likecount</th>\n",
              "      <th>quotecount</th>\n",
              "      <th>language</th>\n",
              "      <th>quotedtweet</th>\n",
              "      <th>inReplyToTweetId</th>\n",
              "      <th>inReplyToUser</th>\n",
              "      <th>mentionedUsers</th>\n",
              "    </tr>\n",
              "  </thead>\n",
              "  <tbody>\n",
              "    <tr>\n",
              "      <th>0</th>\n",
              "      <td>1584696134693711873</td>\n",
              "      <td>@BritIndianVoice @RishiSunak #RishiSunak is #B...</td>\n",
              "      <td>IsmailYSyed</td>\n",
              "      <td>['RishiSunak', 'BritishHindu', 'Pakistani', 'P...</td>\n",
              "      <td>2022-10-24 23:59:35+00:00</td>\n",
              "      <td>393</td>\n",
              "      <td>0</td>\n",
              "      <td>0</td>\n",
              "      <td>0</td>\n",
              "      <td>0</td>\n",
              "      <td>en</td>\n",
              "      <td>NaN</td>\n",
              "      <td>1.584541e+18</td>\n",
              "      <td>https://twitter.com/BritIndianVoice</td>\n",
              "      <td>@BritIndianVoice @RishiSunak #RishiSunak is #B...</td>\n",
              "    </tr>\n",
              "    <tr>\n",
              "      <th>1</th>\n",
              "      <td>1584696057841098752</td>\n",
              "      <td>#RishiSunak is the richest Tory MP in history....</td>\n",
              "      <td>AdameMedia</td>\n",
              "      <td>['RishiSunak']</td>\n",
              "      <td>2022-10-24 23:59:17+00:00</td>\n",
              "      <td>9830</td>\n",
              "      <td>3</td>\n",
              "      <td>23</td>\n",
              "      <td>68</td>\n",
              "      <td>4</td>\n",
              "      <td>en</td>\n",
              "      <td>NaN</td>\n",
              "      <td>NaN</td>\n",
              "      <td>NaN</td>\n",
              "      <td>#RishiSunak is the richest Tory MP in history....</td>\n",
              "    </tr>\n",
              "    <tr>\n",
              "      <th>2</th>\n",
              "      <td>1584695906091536385</td>\n",
              "      <td>#RishiSunak</td>\n",
              "      <td>ROHITKU96224077</td>\n",
              "      <td>['RishiSunak']</td>\n",
              "      <td>2022-10-24 23:58:40+00:00</td>\n",
              "      <td>3</td>\n",
              "      <td>0</td>\n",
              "      <td>0</td>\n",
              "      <td>0</td>\n",
              "      <td>0</td>\n",
              "      <td>qht</td>\n",
              "      <td>NaN</td>\n",
              "      <td>NaN</td>\n",
              "      <td>NaN</td>\n",
              "      <td>#RishiSunak</td>\n",
              "    </tr>\n",
              "    <tr>\n",
              "      <th>3</th>\n",
              "      <td>1584695822658441217</td>\n",
              "      <td>A mountain full of money and a knowledge of pr...</td>\n",
              "      <td>Parisistas</td>\n",
              "      <td>['RishiSunak']</td>\n",
              "      <td>2022-10-24 23:58:21+00:00</td>\n",
              "      <td>0</td>\n",
              "      <td>0</td>\n",
              "      <td>0</td>\n",
              "      <td>0</td>\n",
              "      <td>0</td>\n",
              "      <td>en</td>\n",
              "      <td>NaN</td>\n",
              "      <td>NaN</td>\n",
              "      <td>NaN</td>\n",
              "      <td>A mountain full of money and a knowledge of pr...</td>\n",
              "    </tr>\n",
              "    <tr>\n",
              "      <th>4</th>\n",
              "      <td>1584695640696946688</td>\n",
              "      <td>@trussliz @RishiSunak Chance was been given as...</td>\n",
              "      <td>baboo_prasant</td>\n",
              "      <td>['RishiSunak']</td>\n",
              "      <td>2022-10-24 23:57:37+00:00</td>\n",
              "      <td>14</td>\n",
              "      <td>0</td>\n",
              "      <td>0</td>\n",
              "      <td>0</td>\n",
              "      <td>0</td>\n",
              "      <td>en</td>\n",
              "      <td>NaN</td>\n",
              "      <td>1.584546e+18</td>\n",
              "      <td>https://twitter.com/trussliz</td>\n",
              "      <td>@trussliz @RishiSunak Chance was been given as...</td>\n",
              "    </tr>\n",
              "  </tbody>\n",
              "</table>\n",
              "</div>\n",
              "      <button class=\"colab-df-convert\" onclick=\"convertToInteractive('df-63787ca5-382f-47ca-a296-e4eb817cf322')\"\n",
              "              title=\"Convert this dataframe to an interactive table.\"\n",
              "              style=\"display:none;\">\n",
              "        \n",
              "  <svg xmlns=\"http://www.w3.org/2000/svg\" height=\"24px\"viewBox=\"0 0 24 24\"\n",
              "       width=\"24px\">\n",
              "    <path d=\"M0 0h24v24H0V0z\" fill=\"none\"/>\n",
              "    <path d=\"M18.56 5.44l.94 2.06.94-2.06 2.06-.94-2.06-.94-.94-2.06-.94 2.06-2.06.94zm-11 1L8.5 8.5l.94-2.06 2.06-.94-2.06-.94L8.5 2.5l-.94 2.06-2.06.94zm10 10l.94 2.06.94-2.06 2.06-.94-2.06-.94-.94-2.06-.94 2.06-2.06.94z\"/><path d=\"M17.41 7.96l-1.37-1.37c-.4-.4-.92-.59-1.43-.59-.52 0-1.04.2-1.43.59L10.3 9.45l-7.72 7.72c-.78.78-.78 2.05 0 2.83L4 21.41c.39.39.9.59 1.41.59.51 0 1.02-.2 1.41-.59l7.78-7.78 2.81-2.81c.8-.78.8-2.07 0-2.86zM5.41 20L4 18.59l7.72-7.72 1.47 1.35L5.41 20z\"/>\n",
              "  </svg>\n",
              "      </button>\n",
              "      \n",
              "  <style>\n",
              "    .colab-df-container {\n",
              "      display:flex;\n",
              "      flex-wrap:wrap;\n",
              "      gap: 12px;\n",
              "    }\n",
              "\n",
              "    .colab-df-convert {\n",
              "      background-color: #E8F0FE;\n",
              "      border: none;\n",
              "      border-radius: 50%;\n",
              "      cursor: pointer;\n",
              "      display: none;\n",
              "      fill: #1967D2;\n",
              "      height: 32px;\n",
              "      padding: 0 0 0 0;\n",
              "      width: 32px;\n",
              "    }\n",
              "\n",
              "    .colab-df-convert:hover {\n",
              "      background-color: #E2EBFA;\n",
              "      box-shadow: 0px 1px 2px rgba(60, 64, 67, 0.3), 0px 1px 3px 1px rgba(60, 64, 67, 0.15);\n",
              "      fill: #174EA6;\n",
              "    }\n",
              "\n",
              "    [theme=dark] .colab-df-convert {\n",
              "      background-color: #3B4455;\n",
              "      fill: #D2E3FC;\n",
              "    }\n",
              "\n",
              "    [theme=dark] .colab-df-convert:hover {\n",
              "      background-color: #434B5C;\n",
              "      box-shadow: 0px 1px 3px 1px rgba(0, 0, 0, 0.15);\n",
              "      filter: drop-shadow(0px 1px 2px rgba(0, 0, 0, 0.3));\n",
              "      fill: #FFFFFF;\n",
              "    }\n",
              "  </style>\n",
              "\n",
              "      <script>\n",
              "        const buttonEl =\n",
              "          document.querySelector('#df-63787ca5-382f-47ca-a296-e4eb817cf322 button.colab-df-convert');\n",
              "        buttonEl.style.display =\n",
              "          google.colab.kernel.accessAllowed ? 'block' : 'none';\n",
              "\n",
              "        async function convertToInteractive(key) {\n",
              "          const element = document.querySelector('#df-63787ca5-382f-47ca-a296-e4eb817cf322');\n",
              "          const dataTable =\n",
              "            await google.colab.kernel.invokeFunction('convertToInteractive',\n",
              "                                                     [key], {});\n",
              "          if (!dataTable) return;\n",
              "\n",
              "          const docLinkHtml = 'Like what you see? Visit the ' +\n",
              "            '<a target=\"_blank\" href=https://colab.research.google.com/notebooks/data_table.ipynb>data table notebook</a>'\n",
              "            + ' to learn more about interactive tables.';\n",
              "          element.innerHTML = '';\n",
              "          dataTable['output_type'] = 'display_data';\n",
              "          await google.colab.output.renderOutput(dataTable, element);\n",
              "          const docLink = document.createElement('div');\n",
              "          docLink.innerHTML = docLinkHtml;\n",
              "          element.appendChild(docLink);\n",
              "        }\n",
              "      </script>\n",
              "    </div>\n",
              "  </div>\n",
              "  "
            ]
          },
          "metadata": {},
          "execution_count": 43
        }
      ]
    },
    {
      "cell_type": "code",
      "source": [
        "#checking tail of dataframe\n",
        "df.tail()"
      ],
      "metadata": {
        "colab": {
          "base_uri": "https://localhost:8080/",
          "height": 531
        },
        "id": "zPKILjTtjsOq",
        "outputId": "3afdb3d2-3e65-4918-d95b-16a3cbf43147"
      },
      "execution_count": 44,
      "outputs": [
        {
          "output_type": "execute_result",
          "data": {
            "text/plain": [
              "                         id  \\\n",
              "113573  1584553348736421888   \n",
              "113574  1584553348677525505   \n",
              "113575  1584553348597895168   \n",
              "113576  1584553348132397056   \n",
              "113577  1584553347998105600   \n",
              "\n",
              "                                                     text       username  \\\n",
              "113573  @JackBarbour_ @piersmorgan @RishiSunak The man...     aqeelone22   \n",
              "113574  @Jacob_Rees_Mogg @RishiSunak Let's hope you're...  EddieThornley   \n",
              "113575  @sajidjavid @RishiSunak Desperate call for a d...    pedleysjohn   \n",
              "113576  @SkyNews Rulling Party needs a strong oppositi...       KarobiVC   \n",
              "113577  @trussliz @RishiSunak Liz Truss has won the ma...     sands_hill   \n",
              "\n",
              "                       hashtags                 created_at  \\\n",
              "113573                      NaN  2022-10-24 14:32:12+00:00   \n",
              "113574                      NaN  2022-10-24 14:32:12+00:00   \n",
              "113575  ['ToriesUnfitToGovern']  2022-10-24 14:32:12+00:00   \n",
              "113576                      NaN  2022-10-24 14:32:12+00:00   \n",
              "113577                      NaN  2022-10-24 14:32:12+00:00   \n",
              "\n",
              "        user followers count  replycount  retweetcount  likecount  quotecount  \\\n",
              "113573                  1162           0             0          0           0   \n",
              "113574                    97           0             0          0           0   \n",
              "113575                  2484           0             0          0           0   \n",
              "113576                   392           0             0          0           0   \n",
              "113577                     4           0             0          0           0   \n",
              "\n",
              "       language  quotedtweet  inReplyToTweetId  \\\n",
              "113573       en          NaN      1.584532e+18   \n",
              "113574       en          NaN      1.584539e+18   \n",
              "113575       en          NaN      1.584401e+18   \n",
              "113576       en          NaN      1.584512e+18   \n",
              "113577       en          NaN      1.584546e+18   \n",
              "\n",
              "                              inReplyToUser  \\\n",
              "113573     https://twitter.com/JackBarbour_   \n",
              "113574  https://twitter.com/Jacob_Rees_Mogg   \n",
              "113575       https://twitter.com/sajidjavid   \n",
              "113576          https://twitter.com/SkyNews   \n",
              "113577         https://twitter.com/trussliz   \n",
              "\n",
              "                                           mentionedUsers  \n",
              "113573  @JackBarbour_ @piersmorgan @RishiSunak The man...  \n",
              "113574  @Jacob_Rees_Mogg @RishiSunak Let's hope you're...  \n",
              "113575  @sajidjavid @RishiSunak Desperate call for a d...  \n",
              "113576  @SkyNews Rulling Party needs a strong oppositi...  \n",
              "113577  @trussliz @RishiSunak Liz Truss has won the ma...  "
            ],
            "text/html": [
              "\n",
              "  <div id=\"df-a7fbfbcf-c2b5-49d2-acd4-dc86c65dc2b0\">\n",
              "    <div class=\"colab-df-container\">\n",
              "      <div>\n",
              "<style scoped>\n",
              "    .dataframe tbody tr th:only-of-type {\n",
              "        vertical-align: middle;\n",
              "    }\n",
              "\n",
              "    .dataframe tbody tr th {\n",
              "        vertical-align: top;\n",
              "    }\n",
              "\n",
              "    .dataframe thead th {\n",
              "        text-align: right;\n",
              "    }\n",
              "</style>\n",
              "<table border=\"1\" class=\"dataframe\">\n",
              "  <thead>\n",
              "    <tr style=\"text-align: right;\">\n",
              "      <th></th>\n",
              "      <th>id</th>\n",
              "      <th>text</th>\n",
              "      <th>username</th>\n",
              "      <th>hashtags</th>\n",
              "      <th>created_at</th>\n",
              "      <th>user followers count</th>\n",
              "      <th>replycount</th>\n",
              "      <th>retweetcount</th>\n",
              "      <th>likecount</th>\n",
              "      <th>quotecount</th>\n",
              "      <th>language</th>\n",
              "      <th>quotedtweet</th>\n",
              "      <th>inReplyToTweetId</th>\n",
              "      <th>inReplyToUser</th>\n",
              "      <th>mentionedUsers</th>\n",
              "    </tr>\n",
              "  </thead>\n",
              "  <tbody>\n",
              "    <tr>\n",
              "      <th>113573</th>\n",
              "      <td>1584553348736421888</td>\n",
              "      <td>@JackBarbour_ @piersmorgan @RishiSunak The man...</td>\n",
              "      <td>aqeelone22</td>\n",
              "      <td>NaN</td>\n",
              "      <td>2022-10-24 14:32:12+00:00</td>\n",
              "      <td>1162</td>\n",
              "      <td>0</td>\n",
              "      <td>0</td>\n",
              "      <td>0</td>\n",
              "      <td>0</td>\n",
              "      <td>en</td>\n",
              "      <td>NaN</td>\n",
              "      <td>1.584532e+18</td>\n",
              "      <td>https://twitter.com/JackBarbour_</td>\n",
              "      <td>@JackBarbour_ @piersmorgan @RishiSunak The man...</td>\n",
              "    </tr>\n",
              "    <tr>\n",
              "      <th>113574</th>\n",
              "      <td>1584553348677525505</td>\n",
              "      <td>@Jacob_Rees_Mogg @RishiSunak Let's hope you're...</td>\n",
              "      <td>EddieThornley</td>\n",
              "      <td>NaN</td>\n",
              "      <td>2022-10-24 14:32:12+00:00</td>\n",
              "      <td>97</td>\n",
              "      <td>0</td>\n",
              "      <td>0</td>\n",
              "      <td>0</td>\n",
              "      <td>0</td>\n",
              "      <td>en</td>\n",
              "      <td>NaN</td>\n",
              "      <td>1.584539e+18</td>\n",
              "      <td>https://twitter.com/Jacob_Rees_Mogg</td>\n",
              "      <td>@Jacob_Rees_Mogg @RishiSunak Let's hope you're...</td>\n",
              "    </tr>\n",
              "    <tr>\n",
              "      <th>113575</th>\n",
              "      <td>1584553348597895168</td>\n",
              "      <td>@sajidjavid @RishiSunak Desperate call for a d...</td>\n",
              "      <td>pedleysjohn</td>\n",
              "      <td>['ToriesUnfitToGovern']</td>\n",
              "      <td>2022-10-24 14:32:12+00:00</td>\n",
              "      <td>2484</td>\n",
              "      <td>0</td>\n",
              "      <td>0</td>\n",
              "      <td>0</td>\n",
              "      <td>0</td>\n",
              "      <td>en</td>\n",
              "      <td>NaN</td>\n",
              "      <td>1.584401e+18</td>\n",
              "      <td>https://twitter.com/sajidjavid</td>\n",
              "      <td>@sajidjavid @RishiSunak Desperate call for a d...</td>\n",
              "    </tr>\n",
              "    <tr>\n",
              "      <th>113576</th>\n",
              "      <td>1584553348132397056</td>\n",
              "      <td>@SkyNews Rulling Party needs a strong oppositi...</td>\n",
              "      <td>KarobiVC</td>\n",
              "      <td>NaN</td>\n",
              "      <td>2022-10-24 14:32:12+00:00</td>\n",
              "      <td>392</td>\n",
              "      <td>0</td>\n",
              "      <td>0</td>\n",
              "      <td>0</td>\n",
              "      <td>0</td>\n",
              "      <td>en</td>\n",
              "      <td>NaN</td>\n",
              "      <td>1.584512e+18</td>\n",
              "      <td>https://twitter.com/SkyNews</td>\n",
              "      <td>@SkyNews Rulling Party needs a strong oppositi...</td>\n",
              "    </tr>\n",
              "    <tr>\n",
              "      <th>113577</th>\n",
              "      <td>1584553347998105600</td>\n",
              "      <td>@trussliz @RishiSunak Liz Truss has won the ma...</td>\n",
              "      <td>sands_hill</td>\n",
              "      <td>NaN</td>\n",
              "      <td>2022-10-24 14:32:12+00:00</td>\n",
              "      <td>4</td>\n",
              "      <td>0</td>\n",
              "      <td>0</td>\n",
              "      <td>0</td>\n",
              "      <td>0</td>\n",
              "      <td>en</td>\n",
              "      <td>NaN</td>\n",
              "      <td>1.584546e+18</td>\n",
              "      <td>https://twitter.com/trussliz</td>\n",
              "      <td>@trussliz @RishiSunak Liz Truss has won the ma...</td>\n",
              "    </tr>\n",
              "  </tbody>\n",
              "</table>\n",
              "</div>\n",
              "      <button class=\"colab-df-convert\" onclick=\"convertToInteractive('df-a7fbfbcf-c2b5-49d2-acd4-dc86c65dc2b0')\"\n",
              "              title=\"Convert this dataframe to an interactive table.\"\n",
              "              style=\"display:none;\">\n",
              "        \n",
              "  <svg xmlns=\"http://www.w3.org/2000/svg\" height=\"24px\"viewBox=\"0 0 24 24\"\n",
              "       width=\"24px\">\n",
              "    <path d=\"M0 0h24v24H0V0z\" fill=\"none\"/>\n",
              "    <path d=\"M18.56 5.44l.94 2.06.94-2.06 2.06-.94-2.06-.94-.94-2.06-.94 2.06-2.06.94zm-11 1L8.5 8.5l.94-2.06 2.06-.94-2.06-.94L8.5 2.5l-.94 2.06-2.06.94zm10 10l.94 2.06.94-2.06 2.06-.94-2.06-.94-.94-2.06-.94 2.06-2.06.94z\"/><path d=\"M17.41 7.96l-1.37-1.37c-.4-.4-.92-.59-1.43-.59-.52 0-1.04.2-1.43.59L10.3 9.45l-7.72 7.72c-.78.78-.78 2.05 0 2.83L4 21.41c.39.39.9.59 1.41.59.51 0 1.02-.2 1.41-.59l7.78-7.78 2.81-2.81c.8-.78.8-2.07 0-2.86zM5.41 20L4 18.59l7.72-7.72 1.47 1.35L5.41 20z\"/>\n",
              "  </svg>\n",
              "      </button>\n",
              "      \n",
              "  <style>\n",
              "    .colab-df-container {\n",
              "      display:flex;\n",
              "      flex-wrap:wrap;\n",
              "      gap: 12px;\n",
              "    }\n",
              "\n",
              "    .colab-df-convert {\n",
              "      background-color: #E8F0FE;\n",
              "      border: none;\n",
              "      border-radius: 50%;\n",
              "      cursor: pointer;\n",
              "      display: none;\n",
              "      fill: #1967D2;\n",
              "      height: 32px;\n",
              "      padding: 0 0 0 0;\n",
              "      width: 32px;\n",
              "    }\n",
              "\n",
              "    .colab-df-convert:hover {\n",
              "      background-color: #E2EBFA;\n",
              "      box-shadow: 0px 1px 2px rgba(60, 64, 67, 0.3), 0px 1px 3px 1px rgba(60, 64, 67, 0.15);\n",
              "      fill: #174EA6;\n",
              "    }\n",
              "\n",
              "    [theme=dark] .colab-df-convert {\n",
              "      background-color: #3B4455;\n",
              "      fill: #D2E3FC;\n",
              "    }\n",
              "\n",
              "    [theme=dark] .colab-df-convert:hover {\n",
              "      background-color: #434B5C;\n",
              "      box-shadow: 0px 1px 3px 1px rgba(0, 0, 0, 0.15);\n",
              "      filter: drop-shadow(0px 1px 2px rgba(0, 0, 0, 0.3));\n",
              "      fill: #FFFFFF;\n",
              "    }\n",
              "  </style>\n",
              "\n",
              "      <script>\n",
              "        const buttonEl =\n",
              "          document.querySelector('#df-a7fbfbcf-c2b5-49d2-acd4-dc86c65dc2b0 button.colab-df-convert');\n",
              "        buttonEl.style.display =\n",
              "          google.colab.kernel.accessAllowed ? 'block' : 'none';\n",
              "\n",
              "        async function convertToInteractive(key) {\n",
              "          const element = document.querySelector('#df-a7fbfbcf-c2b5-49d2-acd4-dc86c65dc2b0');\n",
              "          const dataTable =\n",
              "            await google.colab.kernel.invokeFunction('convertToInteractive',\n",
              "                                                     [key], {});\n",
              "          if (!dataTable) return;\n",
              "\n",
              "          const docLinkHtml = 'Like what you see? Visit the ' +\n",
              "            '<a target=\"_blank\" href=https://colab.research.google.com/notebooks/data_table.ipynb>data table notebook</a>'\n",
              "            + ' to learn more about interactive tables.';\n",
              "          element.innerHTML = '';\n",
              "          dataTable['output_type'] = 'display_data';\n",
              "          await google.colab.output.renderOutput(dataTable, element);\n",
              "          const docLink = document.createElement('div');\n",
              "          docLink.innerHTML = docLinkHtml;\n",
              "          element.appendChild(docLink);\n",
              "        }\n",
              "      </script>\n",
              "    </div>\n",
              "  </div>\n",
              "  "
            ]
          },
          "metadata": {},
          "execution_count": 44
        }
      ]
    },
    {
      "cell_type": "code",
      "source": [
        "# checking info of our dataframe\n",
        "df.info()"
      ],
      "metadata": {
        "colab": {
          "base_uri": "https://localhost:8080/"
        },
        "id": "D2_R4x0NjtRX",
        "outputId": "a217102d-27ff-422f-d951-8a6b395da765"
      },
      "execution_count": 45,
      "outputs": [
        {
          "output_type": "stream",
          "name": "stdout",
          "text": [
            "<class 'pandas.core.frame.DataFrame'>\n",
            "RangeIndex: 113578 entries, 0 to 113577\n",
            "Data columns (total 15 columns):\n",
            " #   Column                Non-Null Count   Dtype  \n",
            "---  ------                --------------   -----  \n",
            " 0   id                    113578 non-null  int64  \n",
            " 1   text                  113578 non-null  object \n",
            " 2   username              113578 non-null  object \n",
            " 3   hashtags              26957 non-null   object \n",
            " 4   created_at            113578 non-null  object \n",
            " 5   user followers count  113578 non-null  int64  \n",
            " 6   replycount            113578 non-null  int64  \n",
            " 7   retweetcount          113578 non-null  int64  \n",
            " 8   likecount             113578 non-null  int64  \n",
            " 9   quotecount            113578 non-null  int64  \n",
            " 10  language              113578 non-null  object \n",
            " 11  quotedtweet           0 non-null       float64\n",
            " 12  inReplyToTweetId      83368 non-null   float64\n",
            " 13  inReplyToUser         83368 non-null   object \n",
            " 14  mentionedUsers        113578 non-null  object \n",
            "dtypes: float64(2), int64(6), object(7)\n",
            "memory usage: 13.0+ MB\n"
          ]
        }
      ]
    },
    {
      "cell_type": "markdown",
      "source": [
        "### From above we can see that our dataframe countains 113578 rows and 15 columns out of which we have a column ('quotedtweet') with zero entires, its better we drop this column"
      ],
      "metadata": {
        "id": "ucIulxOQTYBO"
      }
    },
    {
      "cell_type": "code",
      "source": [
        "# check if text column is same as mentionedusers\n",
        "sum = 0\n",
        "for i in range(0,len(df)):\n",
        "    if df['text'][i]!=df['mentionedUsers'][i]:\n",
        "       sum = sum+1\n",
        "\n",
        "print(sum)"
      ],
      "metadata": {
        "colab": {
          "base_uri": "https://localhost:8080/"
        },
        "id": "C9BIAeUOXyRA",
        "outputId": "910b09c7-9c69-4316-a4bf-7df9909a9ac2"
      },
      "execution_count": 46,
      "outputs": [
        {
          "output_type": "stream",
          "name": "stdout",
          "text": [
            "0\n"
          ]
        }
      ]
    },
    {
      "cell_type": "markdown",
      "source": [
        "### from the code above we find out that our text column is same as our mentionedUsers columns ,so lets drop it also.\n"
      ],
      "metadata": {
        "id": "iIceA9HHYvU7"
      }
    },
    {
      "cell_type": "code",
      "source": [
        "#dropppping mentionedUsers column from our dataframe\n",
        "df = df.drop('mentionedUsers',axis = 1)\n",
        "df.head(5)"
      ],
      "metadata": {
        "colab": {
          "base_uri": "https://localhost:8080/",
          "height": 513
        },
        "id": "jQxkY8xAY-F8",
        "outputId": "606aead8-a5ef-4114-b039-04f3eb0844cc"
      },
      "execution_count": 47,
      "outputs": [
        {
          "output_type": "execute_result",
          "data": {
            "text/plain": [
              "                    id                                               text  \\\n",
              "0  1584696134693711873  @BritIndianVoice @RishiSunak #RishiSunak is #B...   \n",
              "1  1584696057841098752  #RishiSunak is the richest Tory MP in history....   \n",
              "2  1584695906091536385                                        #RishiSunak   \n",
              "3  1584695822658441217  A mountain full of money and a knowledge of pr...   \n",
              "4  1584695640696946688  @trussliz @RishiSunak Chance was been given as...   \n",
              "\n",
              "          username                                           hashtags  \\\n",
              "0      IsmailYSyed  ['RishiSunak', 'BritishHindu', 'Pakistani', 'P...   \n",
              "1       AdameMedia                                     ['RishiSunak']   \n",
              "2  ROHITKU96224077                                     ['RishiSunak']   \n",
              "3       Parisistas                                     ['RishiSunak']   \n",
              "4    baboo_prasant                                     ['RishiSunak']   \n",
              "\n",
              "                  created_at  user followers count  replycount  retweetcount  \\\n",
              "0  2022-10-24 23:59:35+00:00                   393           0             0   \n",
              "1  2022-10-24 23:59:17+00:00                  9830           3            23   \n",
              "2  2022-10-24 23:58:40+00:00                     3           0             0   \n",
              "3  2022-10-24 23:58:21+00:00                     0           0             0   \n",
              "4  2022-10-24 23:57:37+00:00                    14           0             0   \n",
              "\n",
              "   likecount  quotecount language  quotedtweet  inReplyToTweetId  \\\n",
              "0          0           0       en          NaN      1.584541e+18   \n",
              "1         68           4       en          NaN               NaN   \n",
              "2          0           0      qht          NaN               NaN   \n",
              "3          0           0       en          NaN               NaN   \n",
              "4          0           0       en          NaN      1.584546e+18   \n",
              "\n",
              "                         inReplyToUser  \n",
              "0  https://twitter.com/BritIndianVoice  \n",
              "1                                  NaN  \n",
              "2                                  NaN  \n",
              "3                                  NaN  \n",
              "4         https://twitter.com/trussliz  "
            ],
            "text/html": [
              "\n",
              "  <div id=\"df-d6284dea-371a-4fec-8bd7-21ce8322a8ae\">\n",
              "    <div class=\"colab-df-container\">\n",
              "      <div>\n",
              "<style scoped>\n",
              "    .dataframe tbody tr th:only-of-type {\n",
              "        vertical-align: middle;\n",
              "    }\n",
              "\n",
              "    .dataframe tbody tr th {\n",
              "        vertical-align: top;\n",
              "    }\n",
              "\n",
              "    .dataframe thead th {\n",
              "        text-align: right;\n",
              "    }\n",
              "</style>\n",
              "<table border=\"1\" class=\"dataframe\">\n",
              "  <thead>\n",
              "    <tr style=\"text-align: right;\">\n",
              "      <th></th>\n",
              "      <th>id</th>\n",
              "      <th>text</th>\n",
              "      <th>username</th>\n",
              "      <th>hashtags</th>\n",
              "      <th>created_at</th>\n",
              "      <th>user followers count</th>\n",
              "      <th>replycount</th>\n",
              "      <th>retweetcount</th>\n",
              "      <th>likecount</th>\n",
              "      <th>quotecount</th>\n",
              "      <th>language</th>\n",
              "      <th>quotedtweet</th>\n",
              "      <th>inReplyToTweetId</th>\n",
              "      <th>inReplyToUser</th>\n",
              "    </tr>\n",
              "  </thead>\n",
              "  <tbody>\n",
              "    <tr>\n",
              "      <th>0</th>\n",
              "      <td>1584696134693711873</td>\n",
              "      <td>@BritIndianVoice @RishiSunak #RishiSunak is #B...</td>\n",
              "      <td>IsmailYSyed</td>\n",
              "      <td>['RishiSunak', 'BritishHindu', 'Pakistani', 'P...</td>\n",
              "      <td>2022-10-24 23:59:35+00:00</td>\n",
              "      <td>393</td>\n",
              "      <td>0</td>\n",
              "      <td>0</td>\n",
              "      <td>0</td>\n",
              "      <td>0</td>\n",
              "      <td>en</td>\n",
              "      <td>NaN</td>\n",
              "      <td>1.584541e+18</td>\n",
              "      <td>https://twitter.com/BritIndianVoice</td>\n",
              "    </tr>\n",
              "    <tr>\n",
              "      <th>1</th>\n",
              "      <td>1584696057841098752</td>\n",
              "      <td>#RishiSunak is the richest Tory MP in history....</td>\n",
              "      <td>AdameMedia</td>\n",
              "      <td>['RishiSunak']</td>\n",
              "      <td>2022-10-24 23:59:17+00:00</td>\n",
              "      <td>9830</td>\n",
              "      <td>3</td>\n",
              "      <td>23</td>\n",
              "      <td>68</td>\n",
              "      <td>4</td>\n",
              "      <td>en</td>\n",
              "      <td>NaN</td>\n",
              "      <td>NaN</td>\n",
              "      <td>NaN</td>\n",
              "    </tr>\n",
              "    <tr>\n",
              "      <th>2</th>\n",
              "      <td>1584695906091536385</td>\n",
              "      <td>#RishiSunak</td>\n",
              "      <td>ROHITKU96224077</td>\n",
              "      <td>['RishiSunak']</td>\n",
              "      <td>2022-10-24 23:58:40+00:00</td>\n",
              "      <td>3</td>\n",
              "      <td>0</td>\n",
              "      <td>0</td>\n",
              "      <td>0</td>\n",
              "      <td>0</td>\n",
              "      <td>qht</td>\n",
              "      <td>NaN</td>\n",
              "      <td>NaN</td>\n",
              "      <td>NaN</td>\n",
              "    </tr>\n",
              "    <tr>\n",
              "      <th>3</th>\n",
              "      <td>1584695822658441217</td>\n",
              "      <td>A mountain full of money and a knowledge of pr...</td>\n",
              "      <td>Parisistas</td>\n",
              "      <td>['RishiSunak']</td>\n",
              "      <td>2022-10-24 23:58:21+00:00</td>\n",
              "      <td>0</td>\n",
              "      <td>0</td>\n",
              "      <td>0</td>\n",
              "      <td>0</td>\n",
              "      <td>0</td>\n",
              "      <td>en</td>\n",
              "      <td>NaN</td>\n",
              "      <td>NaN</td>\n",
              "      <td>NaN</td>\n",
              "    </tr>\n",
              "    <tr>\n",
              "      <th>4</th>\n",
              "      <td>1584695640696946688</td>\n",
              "      <td>@trussliz @RishiSunak Chance was been given as...</td>\n",
              "      <td>baboo_prasant</td>\n",
              "      <td>['RishiSunak']</td>\n",
              "      <td>2022-10-24 23:57:37+00:00</td>\n",
              "      <td>14</td>\n",
              "      <td>0</td>\n",
              "      <td>0</td>\n",
              "      <td>0</td>\n",
              "      <td>0</td>\n",
              "      <td>en</td>\n",
              "      <td>NaN</td>\n",
              "      <td>1.584546e+18</td>\n",
              "      <td>https://twitter.com/trussliz</td>\n",
              "    </tr>\n",
              "  </tbody>\n",
              "</table>\n",
              "</div>\n",
              "      <button class=\"colab-df-convert\" onclick=\"convertToInteractive('df-d6284dea-371a-4fec-8bd7-21ce8322a8ae')\"\n",
              "              title=\"Convert this dataframe to an interactive table.\"\n",
              "              style=\"display:none;\">\n",
              "        \n",
              "  <svg xmlns=\"http://www.w3.org/2000/svg\" height=\"24px\"viewBox=\"0 0 24 24\"\n",
              "       width=\"24px\">\n",
              "    <path d=\"M0 0h24v24H0V0z\" fill=\"none\"/>\n",
              "    <path d=\"M18.56 5.44l.94 2.06.94-2.06 2.06-.94-2.06-.94-.94-2.06-.94 2.06-2.06.94zm-11 1L8.5 8.5l.94-2.06 2.06-.94-2.06-.94L8.5 2.5l-.94 2.06-2.06.94zm10 10l.94 2.06.94-2.06 2.06-.94-2.06-.94-.94-2.06-.94 2.06-2.06.94z\"/><path d=\"M17.41 7.96l-1.37-1.37c-.4-.4-.92-.59-1.43-.59-.52 0-1.04.2-1.43.59L10.3 9.45l-7.72 7.72c-.78.78-.78 2.05 0 2.83L4 21.41c.39.39.9.59 1.41.59.51 0 1.02-.2 1.41-.59l7.78-7.78 2.81-2.81c.8-.78.8-2.07 0-2.86zM5.41 20L4 18.59l7.72-7.72 1.47 1.35L5.41 20z\"/>\n",
              "  </svg>\n",
              "      </button>\n",
              "      \n",
              "  <style>\n",
              "    .colab-df-container {\n",
              "      display:flex;\n",
              "      flex-wrap:wrap;\n",
              "      gap: 12px;\n",
              "    }\n",
              "\n",
              "    .colab-df-convert {\n",
              "      background-color: #E8F0FE;\n",
              "      border: none;\n",
              "      border-radius: 50%;\n",
              "      cursor: pointer;\n",
              "      display: none;\n",
              "      fill: #1967D2;\n",
              "      height: 32px;\n",
              "      padding: 0 0 0 0;\n",
              "      width: 32px;\n",
              "    }\n",
              "\n",
              "    .colab-df-convert:hover {\n",
              "      background-color: #E2EBFA;\n",
              "      box-shadow: 0px 1px 2px rgba(60, 64, 67, 0.3), 0px 1px 3px 1px rgba(60, 64, 67, 0.15);\n",
              "      fill: #174EA6;\n",
              "    }\n",
              "\n",
              "    [theme=dark] .colab-df-convert {\n",
              "      background-color: #3B4455;\n",
              "      fill: #D2E3FC;\n",
              "    }\n",
              "\n",
              "    [theme=dark] .colab-df-convert:hover {\n",
              "      background-color: #434B5C;\n",
              "      box-shadow: 0px 1px 3px 1px rgba(0, 0, 0, 0.15);\n",
              "      filter: drop-shadow(0px 1px 2px rgba(0, 0, 0, 0.3));\n",
              "      fill: #FFFFFF;\n",
              "    }\n",
              "  </style>\n",
              "\n",
              "      <script>\n",
              "        const buttonEl =\n",
              "          document.querySelector('#df-d6284dea-371a-4fec-8bd7-21ce8322a8ae button.colab-df-convert');\n",
              "        buttonEl.style.display =\n",
              "          google.colab.kernel.accessAllowed ? 'block' : 'none';\n",
              "\n",
              "        async function convertToInteractive(key) {\n",
              "          const element = document.querySelector('#df-d6284dea-371a-4fec-8bd7-21ce8322a8ae');\n",
              "          const dataTable =\n",
              "            await google.colab.kernel.invokeFunction('convertToInteractive',\n",
              "                                                     [key], {});\n",
              "          if (!dataTable) return;\n",
              "\n",
              "          const docLinkHtml = 'Like what you see? Visit the ' +\n",
              "            '<a target=\"_blank\" href=https://colab.research.google.com/notebooks/data_table.ipynb>data table notebook</a>'\n",
              "            + ' to learn more about interactive tables.';\n",
              "          element.innerHTML = '';\n",
              "          dataTable['output_type'] = 'display_data';\n",
              "          await google.colab.output.renderOutput(dataTable, element);\n",
              "          const docLink = document.createElement('div');\n",
              "          docLink.innerHTML = docLinkHtml;\n",
              "          element.appendChild(docLink);\n",
              "        }\n",
              "      </script>\n",
              "    </div>\n",
              "  </div>\n",
              "  "
            ]
          },
          "metadata": {},
          "execution_count": 47
        }
      ]
    },
    {
      "cell_type": "code",
      "source": [
        "df = df.drop('quotedtweet',axis = 1)\n",
        "# also lets check the null values present in our dataframe\n",
        "df.isnull().sum()"
      ],
      "metadata": {
        "colab": {
          "base_uri": "https://localhost:8080/"
        },
        "id": "U17u_7JdT_EY",
        "outputId": "25198a30-4a02-4dd7-ac4d-79614905831d"
      },
      "execution_count": 48,
      "outputs": [
        {
          "output_type": "execute_result",
          "data": {
            "text/plain": [
              "id                          0\n",
              "text                        0\n",
              "username                    0\n",
              "hashtags                86621\n",
              "created_at                  0\n",
              "user followers count        0\n",
              "replycount                  0\n",
              "retweetcount                0\n",
              "likecount                   0\n",
              "quotecount                  0\n",
              "language                    0\n",
              "inReplyToTweetId        30210\n",
              "inReplyToUser           30210\n",
              "dtype: int64"
            ]
          },
          "metadata": {},
          "execution_count": 48
        }
      ]
    },
    {
      "cell_type": "markdown",
      "source": [
        "### From above we found that our hastag columns has 86621 null values,inReplyToTweetId and inReplyToUser columns have 30210 null values"
      ],
      "metadata": {
        "id": "XwosW_gIXX4d"
      }
    },
    {
      "cell_type": "markdown",
      "source": [
        "###To know the statistical summary of the DataFrame columns, we use the describe() function in python. And to know the total number of rows and columns of the dataset, we use the .shape function in python."
      ],
      "metadata": {
        "id": "Pb8pLuJidb1r"
      }
    },
    {
      "cell_type": "code",
      "source": [
        "# checking description of our dataset\n",
        "df.describe()"
      ],
      "metadata": {
        "colab": {
          "base_uri": "https://localhost:8080/",
          "height": 300
        },
        "id": "bkf9ky-NdiJt",
        "outputId": "7be3fc06-ac6d-486a-af95-420cf0cd5630"
      },
      "execution_count": 49,
      "outputs": [
        {
          "output_type": "execute_result",
          "data": {
            "text/plain": [
              "                 id  user followers count     replycount   retweetcount  \\\n",
              "count  1.135780e+05          1.135780e+05  113578.000000  113578.000000   \n",
              "mean   1.584272e+18          5.732325e+03       0.990456       1.824843   \n",
              "std    2.161895e+15          2.808652e+05      32.213791      91.932817   \n",
              "min    1.565130e+18          0.000000e+00       0.000000       0.000000   \n",
              "25%    1.584564e+18          3.500000e+01       0.000000       0.000000   \n",
              "50%    1.584590e+18          2.030000e+02       0.000000       0.000000   \n",
              "75%    1.584623e+18          9.780000e+02       0.000000       0.000000   \n",
              "max    1.584696e+18          8.371055e+07    5177.000000   25053.000000   \n",
              "\n",
              "           likecount     quotecount  inReplyToTweetId  \n",
              "count  113578.000000  113578.000000      8.336800e+04  \n",
              "mean       11.951003       0.153833      1.584147e+18  \n",
              "std       662.464267       6.997948      7.023966e+15  \n",
              "min         0.000000       0.000000      1.120754e+18  \n",
              "25%         0.000000       0.000000      1.584531e+18  \n",
              "50%         0.000000       0.000000      1.584541e+18  \n",
              "75%         1.000000       0.000000      1.584566e+18  \n",
              "max    185559.000000    1115.000000      1.584695e+18  "
            ],
            "text/html": [
              "\n",
              "  <div id=\"df-2230a0ee-f0dc-4c39-9cf8-0ab63f4fddcc\">\n",
              "    <div class=\"colab-df-container\">\n",
              "      <div>\n",
              "<style scoped>\n",
              "    .dataframe tbody tr th:only-of-type {\n",
              "        vertical-align: middle;\n",
              "    }\n",
              "\n",
              "    .dataframe tbody tr th {\n",
              "        vertical-align: top;\n",
              "    }\n",
              "\n",
              "    .dataframe thead th {\n",
              "        text-align: right;\n",
              "    }\n",
              "</style>\n",
              "<table border=\"1\" class=\"dataframe\">\n",
              "  <thead>\n",
              "    <tr style=\"text-align: right;\">\n",
              "      <th></th>\n",
              "      <th>id</th>\n",
              "      <th>user followers count</th>\n",
              "      <th>replycount</th>\n",
              "      <th>retweetcount</th>\n",
              "      <th>likecount</th>\n",
              "      <th>quotecount</th>\n",
              "      <th>inReplyToTweetId</th>\n",
              "    </tr>\n",
              "  </thead>\n",
              "  <tbody>\n",
              "    <tr>\n",
              "      <th>count</th>\n",
              "      <td>1.135780e+05</td>\n",
              "      <td>1.135780e+05</td>\n",
              "      <td>113578.000000</td>\n",
              "      <td>113578.000000</td>\n",
              "      <td>113578.000000</td>\n",
              "      <td>113578.000000</td>\n",
              "      <td>8.336800e+04</td>\n",
              "    </tr>\n",
              "    <tr>\n",
              "      <th>mean</th>\n",
              "      <td>1.584272e+18</td>\n",
              "      <td>5.732325e+03</td>\n",
              "      <td>0.990456</td>\n",
              "      <td>1.824843</td>\n",
              "      <td>11.951003</td>\n",
              "      <td>0.153833</td>\n",
              "      <td>1.584147e+18</td>\n",
              "    </tr>\n",
              "    <tr>\n",
              "      <th>std</th>\n",
              "      <td>2.161895e+15</td>\n",
              "      <td>2.808652e+05</td>\n",
              "      <td>32.213791</td>\n",
              "      <td>91.932817</td>\n",
              "      <td>662.464267</td>\n",
              "      <td>6.997948</td>\n",
              "      <td>7.023966e+15</td>\n",
              "    </tr>\n",
              "    <tr>\n",
              "      <th>min</th>\n",
              "      <td>1.565130e+18</td>\n",
              "      <td>0.000000e+00</td>\n",
              "      <td>0.000000</td>\n",
              "      <td>0.000000</td>\n",
              "      <td>0.000000</td>\n",
              "      <td>0.000000</td>\n",
              "      <td>1.120754e+18</td>\n",
              "    </tr>\n",
              "    <tr>\n",
              "      <th>25%</th>\n",
              "      <td>1.584564e+18</td>\n",
              "      <td>3.500000e+01</td>\n",
              "      <td>0.000000</td>\n",
              "      <td>0.000000</td>\n",
              "      <td>0.000000</td>\n",
              "      <td>0.000000</td>\n",
              "      <td>1.584531e+18</td>\n",
              "    </tr>\n",
              "    <tr>\n",
              "      <th>50%</th>\n",
              "      <td>1.584590e+18</td>\n",
              "      <td>2.030000e+02</td>\n",
              "      <td>0.000000</td>\n",
              "      <td>0.000000</td>\n",
              "      <td>0.000000</td>\n",
              "      <td>0.000000</td>\n",
              "      <td>1.584541e+18</td>\n",
              "    </tr>\n",
              "    <tr>\n",
              "      <th>75%</th>\n",
              "      <td>1.584623e+18</td>\n",
              "      <td>9.780000e+02</td>\n",
              "      <td>0.000000</td>\n",
              "      <td>0.000000</td>\n",
              "      <td>1.000000</td>\n",
              "      <td>0.000000</td>\n",
              "      <td>1.584566e+18</td>\n",
              "    </tr>\n",
              "    <tr>\n",
              "      <th>max</th>\n",
              "      <td>1.584696e+18</td>\n",
              "      <td>8.371055e+07</td>\n",
              "      <td>5177.000000</td>\n",
              "      <td>25053.000000</td>\n",
              "      <td>185559.000000</td>\n",
              "      <td>1115.000000</td>\n",
              "      <td>1.584695e+18</td>\n",
              "    </tr>\n",
              "  </tbody>\n",
              "</table>\n",
              "</div>\n",
              "      <button class=\"colab-df-convert\" onclick=\"convertToInteractive('df-2230a0ee-f0dc-4c39-9cf8-0ab63f4fddcc')\"\n",
              "              title=\"Convert this dataframe to an interactive table.\"\n",
              "              style=\"display:none;\">\n",
              "        \n",
              "  <svg xmlns=\"http://www.w3.org/2000/svg\" height=\"24px\"viewBox=\"0 0 24 24\"\n",
              "       width=\"24px\">\n",
              "    <path d=\"M0 0h24v24H0V0z\" fill=\"none\"/>\n",
              "    <path d=\"M18.56 5.44l.94 2.06.94-2.06 2.06-.94-2.06-.94-.94-2.06-.94 2.06-2.06.94zm-11 1L8.5 8.5l.94-2.06 2.06-.94-2.06-.94L8.5 2.5l-.94 2.06-2.06.94zm10 10l.94 2.06.94-2.06 2.06-.94-2.06-.94-.94-2.06-.94 2.06-2.06.94z\"/><path d=\"M17.41 7.96l-1.37-1.37c-.4-.4-.92-.59-1.43-.59-.52 0-1.04.2-1.43.59L10.3 9.45l-7.72 7.72c-.78.78-.78 2.05 0 2.83L4 21.41c.39.39.9.59 1.41.59.51 0 1.02-.2 1.41-.59l7.78-7.78 2.81-2.81c.8-.78.8-2.07 0-2.86zM5.41 20L4 18.59l7.72-7.72 1.47 1.35L5.41 20z\"/>\n",
              "  </svg>\n",
              "      </button>\n",
              "      \n",
              "  <style>\n",
              "    .colab-df-container {\n",
              "      display:flex;\n",
              "      flex-wrap:wrap;\n",
              "      gap: 12px;\n",
              "    }\n",
              "\n",
              "    .colab-df-convert {\n",
              "      background-color: #E8F0FE;\n",
              "      border: none;\n",
              "      border-radius: 50%;\n",
              "      cursor: pointer;\n",
              "      display: none;\n",
              "      fill: #1967D2;\n",
              "      height: 32px;\n",
              "      padding: 0 0 0 0;\n",
              "      width: 32px;\n",
              "    }\n",
              "\n",
              "    .colab-df-convert:hover {\n",
              "      background-color: #E2EBFA;\n",
              "      box-shadow: 0px 1px 2px rgba(60, 64, 67, 0.3), 0px 1px 3px 1px rgba(60, 64, 67, 0.15);\n",
              "      fill: #174EA6;\n",
              "    }\n",
              "\n",
              "    [theme=dark] .colab-df-convert {\n",
              "      background-color: #3B4455;\n",
              "      fill: #D2E3FC;\n",
              "    }\n",
              "\n",
              "    [theme=dark] .colab-df-convert:hover {\n",
              "      background-color: #434B5C;\n",
              "      box-shadow: 0px 1px 3px 1px rgba(0, 0, 0, 0.15);\n",
              "      filter: drop-shadow(0px 1px 2px rgba(0, 0, 0, 0.3));\n",
              "      fill: #FFFFFF;\n",
              "    }\n",
              "  </style>\n",
              "\n",
              "      <script>\n",
              "        const buttonEl =\n",
              "          document.querySelector('#df-2230a0ee-f0dc-4c39-9cf8-0ab63f4fddcc button.colab-df-convert');\n",
              "        buttonEl.style.display =\n",
              "          google.colab.kernel.accessAllowed ? 'block' : 'none';\n",
              "\n",
              "        async function convertToInteractive(key) {\n",
              "          const element = document.querySelector('#df-2230a0ee-f0dc-4c39-9cf8-0ab63f4fddcc');\n",
              "          const dataTable =\n",
              "            await google.colab.kernel.invokeFunction('convertToInteractive',\n",
              "                                                     [key], {});\n",
              "          if (!dataTable) return;\n",
              "\n",
              "          const docLinkHtml = 'Like what you see? Visit the ' +\n",
              "            '<a target=\"_blank\" href=https://colab.research.google.com/notebooks/data_table.ipynb>data table notebook</a>'\n",
              "            + ' to learn more about interactive tables.';\n",
              "          element.innerHTML = '';\n",
              "          dataTable['output_type'] = 'display_data';\n",
              "          await google.colab.output.renderOutput(dataTable, element);\n",
              "          const docLink = document.createElement('div');\n",
              "          docLink.innerHTML = docLinkHtml;\n",
              "          element.appendChild(docLink);\n",
              "        }\n",
              "      </script>\n",
              "    </div>\n",
              "  </div>\n",
              "  "
            ]
          },
          "metadata": {},
          "execution_count": 49
        }
      ]
    },
    {
      "cell_type": "markdown",
      "source": [
        "### For our sentiment analysis we need two important 'ID' and 'Text' columns"
      ],
      "metadata": {
        "id": "3C1ts7bxk8zg"
      }
    },
    {
      "cell_type": "code",
      "source": [
        "df1 = df[['id','text']]\n",
        "df1.head(5)"
      ],
      "metadata": {
        "colab": {
          "base_uri": "https://localhost:8080/",
          "height": 206
        },
        "id": "Xm6ur7nPlVsO",
        "outputId": "8b874130-ece2-48aa-c5ee-f3344222f10f"
      },
      "execution_count": 50,
      "outputs": [
        {
          "output_type": "execute_result",
          "data": {
            "text/plain": [
              "                    id                                               text\n",
              "0  1584696134693711873  @BritIndianVoice @RishiSunak #RishiSunak is #B...\n",
              "1  1584696057841098752  #RishiSunak is the richest Tory MP in history....\n",
              "2  1584695906091536385                                        #RishiSunak\n",
              "3  1584695822658441217  A mountain full of money and a knowledge of pr...\n",
              "4  1584695640696946688  @trussliz @RishiSunak Chance was been given as..."
            ],
            "text/html": [
              "\n",
              "  <div id=\"df-8892ad41-703b-4440-81b6-92b2616e4ba7\">\n",
              "    <div class=\"colab-df-container\">\n",
              "      <div>\n",
              "<style scoped>\n",
              "    .dataframe tbody tr th:only-of-type {\n",
              "        vertical-align: middle;\n",
              "    }\n",
              "\n",
              "    .dataframe tbody tr th {\n",
              "        vertical-align: top;\n",
              "    }\n",
              "\n",
              "    .dataframe thead th {\n",
              "        text-align: right;\n",
              "    }\n",
              "</style>\n",
              "<table border=\"1\" class=\"dataframe\">\n",
              "  <thead>\n",
              "    <tr style=\"text-align: right;\">\n",
              "      <th></th>\n",
              "      <th>id</th>\n",
              "      <th>text</th>\n",
              "    </tr>\n",
              "  </thead>\n",
              "  <tbody>\n",
              "    <tr>\n",
              "      <th>0</th>\n",
              "      <td>1584696134693711873</td>\n",
              "      <td>@BritIndianVoice @RishiSunak #RishiSunak is #B...</td>\n",
              "    </tr>\n",
              "    <tr>\n",
              "      <th>1</th>\n",
              "      <td>1584696057841098752</td>\n",
              "      <td>#RishiSunak is the richest Tory MP in history....</td>\n",
              "    </tr>\n",
              "    <tr>\n",
              "      <th>2</th>\n",
              "      <td>1584695906091536385</td>\n",
              "      <td>#RishiSunak</td>\n",
              "    </tr>\n",
              "    <tr>\n",
              "      <th>3</th>\n",
              "      <td>1584695822658441217</td>\n",
              "      <td>A mountain full of money and a knowledge of pr...</td>\n",
              "    </tr>\n",
              "    <tr>\n",
              "      <th>4</th>\n",
              "      <td>1584695640696946688</td>\n",
              "      <td>@trussliz @RishiSunak Chance was been given as...</td>\n",
              "    </tr>\n",
              "  </tbody>\n",
              "</table>\n",
              "</div>\n",
              "      <button class=\"colab-df-convert\" onclick=\"convertToInteractive('df-8892ad41-703b-4440-81b6-92b2616e4ba7')\"\n",
              "              title=\"Convert this dataframe to an interactive table.\"\n",
              "              style=\"display:none;\">\n",
              "        \n",
              "  <svg xmlns=\"http://www.w3.org/2000/svg\" height=\"24px\"viewBox=\"0 0 24 24\"\n",
              "       width=\"24px\">\n",
              "    <path d=\"M0 0h24v24H0V0z\" fill=\"none\"/>\n",
              "    <path d=\"M18.56 5.44l.94 2.06.94-2.06 2.06-.94-2.06-.94-.94-2.06-.94 2.06-2.06.94zm-11 1L8.5 8.5l.94-2.06 2.06-.94-2.06-.94L8.5 2.5l-.94 2.06-2.06.94zm10 10l.94 2.06.94-2.06 2.06-.94-2.06-.94-.94-2.06-.94 2.06-2.06.94z\"/><path d=\"M17.41 7.96l-1.37-1.37c-.4-.4-.92-.59-1.43-.59-.52 0-1.04.2-1.43.59L10.3 9.45l-7.72 7.72c-.78.78-.78 2.05 0 2.83L4 21.41c.39.39.9.59 1.41.59.51 0 1.02-.2 1.41-.59l7.78-7.78 2.81-2.81c.8-.78.8-2.07 0-2.86zM5.41 20L4 18.59l7.72-7.72 1.47 1.35L5.41 20z\"/>\n",
              "  </svg>\n",
              "      </button>\n",
              "      \n",
              "  <style>\n",
              "    .colab-df-container {\n",
              "      display:flex;\n",
              "      flex-wrap:wrap;\n",
              "      gap: 12px;\n",
              "    }\n",
              "\n",
              "    .colab-df-convert {\n",
              "      background-color: #E8F0FE;\n",
              "      border: none;\n",
              "      border-radius: 50%;\n",
              "      cursor: pointer;\n",
              "      display: none;\n",
              "      fill: #1967D2;\n",
              "      height: 32px;\n",
              "      padding: 0 0 0 0;\n",
              "      width: 32px;\n",
              "    }\n",
              "\n",
              "    .colab-df-convert:hover {\n",
              "      background-color: #E2EBFA;\n",
              "      box-shadow: 0px 1px 2px rgba(60, 64, 67, 0.3), 0px 1px 3px 1px rgba(60, 64, 67, 0.15);\n",
              "      fill: #174EA6;\n",
              "    }\n",
              "\n",
              "    [theme=dark] .colab-df-convert {\n",
              "      background-color: #3B4455;\n",
              "      fill: #D2E3FC;\n",
              "    }\n",
              "\n",
              "    [theme=dark] .colab-df-convert:hover {\n",
              "      background-color: #434B5C;\n",
              "      box-shadow: 0px 1px 3px 1px rgba(0, 0, 0, 0.15);\n",
              "      filter: drop-shadow(0px 1px 2px rgba(0, 0, 0, 0.3));\n",
              "      fill: #FFFFFF;\n",
              "    }\n",
              "  </style>\n",
              "\n",
              "      <script>\n",
              "        const buttonEl =\n",
              "          document.querySelector('#df-8892ad41-703b-4440-81b6-92b2616e4ba7 button.colab-df-convert');\n",
              "        buttonEl.style.display =\n",
              "          google.colab.kernel.accessAllowed ? 'block' : 'none';\n",
              "\n",
              "        async function convertToInteractive(key) {\n",
              "          const element = document.querySelector('#df-8892ad41-703b-4440-81b6-92b2616e4ba7');\n",
              "          const dataTable =\n",
              "            await google.colab.kernel.invokeFunction('convertToInteractive',\n",
              "                                                     [key], {});\n",
              "          if (!dataTable) return;\n",
              "\n",
              "          const docLinkHtml = 'Like what you see? Visit the ' +\n",
              "            '<a target=\"_blank\" href=https://colab.research.google.com/notebooks/data_table.ipynb>data table notebook</a>'\n",
              "            + ' to learn more about interactive tables.';\n",
              "          element.innerHTML = '';\n",
              "          dataTable['output_type'] = 'display_data';\n",
              "          await google.colab.output.renderOutput(dataTable, element);\n",
              "          const docLink = document.createElement('div');\n",
              "          docLink.innerHTML = docLinkHtml;\n",
              "          element.appendChild(docLink);\n",
              "        }\n",
              "      </script>\n",
              "    </div>\n",
              "  </div>\n",
              "  "
            ]
          },
          "metadata": {},
          "execution_count": 50
        }
      ]
    },
    {
      "cell_type": "markdown",
      "source": [
        "## Preprocessing the dataset"
      ],
      "metadata": {
        "id": "FHpIQanVkjeI"
      }
    },
    {
      "cell_type": "code",
      "source": [
        "# removes pattern in the text column]\n",
        "def remove_pattern(input_text,pattern):\n",
        "    r = re.findall(pattern,input_text)\n",
        "    for word in r:\n",
        "       input_text = re.sub(word,'',input_text)\n",
        "    return input_text   "
      ],
      "metadata": {
        "id": "faeiQ6rzlthI"
      },
      "execution_count": 51,
      "outputs": []
    },
    {
      "cell_type": "code",
      "source": [
        "# remove twitter handles @user\n",
        "df1['clean_tweet'] = np.vectorize(remove_pattern)(df1['text'], \"@[\\w]*\")\n",
        "df1['clean_tweet'][0]"
      ],
      "metadata": {
        "colab": {
          "base_uri": "https://localhost:8080/",
          "height": 53
        },
        "id": "po7WsrjCmiV9",
        "outputId": "f8b3f011-c6b5-4340-ee7a-07b94d1ea25f"
      },
      "execution_count": 52,
      "outputs": [
        {
          "output_type": "execute_result",
          "data": {
            "text/plain": [
              "'  #RishiSunak is #BritishHindu of paternal #Pakistani Punjabi origin. He’s legally POC (#Pakistan\\xa0Origin Card) holder issued by  (probably also concurrently holding India’s OCI through his Indian NRI wife/mother). Also there may be issue with his wife’s Indian citizenship.'"
            ],
            "application/vnd.google.colaboratory.intrinsic+json": {
              "type": "string"
            }
          },
          "metadata": {},
          "execution_count": 52
        }
      ]
    },
    {
      "cell_type": "code",
      "source": [
        "# remove special characters, numbers and punctuations\n",
        "df1['clean_tweet'] = df1['clean_tweet'].str.replace(\"[^a-zA-Z#]\", \" \")\n",
        "df1['clean_tweet'][0]"
      ],
      "metadata": {
        "colab": {
          "base_uri": "https://localhost:8080/",
          "height": 53
        },
        "id": "nbhUL7EInLbs",
        "outputId": "54f28a6a-a2f6-4f04-cfaf-db12d03524f0"
      },
      "execution_count": 53,
      "outputs": [
        {
          "output_type": "execute_result",
          "data": {
            "text/plain": [
              "'  #RishiSunak is #BritishHindu of paternal #Pakistani Punjabi origin  He s legally POC  #Pakistan Origin Card  holder issued by   probably also concurrently holding India s OCI through his Indian NRI wife mother   Also there may be issue with his wife s Indian citizenship '"
            ],
            "application/vnd.google.colaboratory.intrinsic+json": {
              "type": "string"
            }
          },
          "metadata": {},
          "execution_count": 53
        }
      ]
    },
    {
      "cell_type": "code",
      "source": [
        "# remove short words\n",
        "df1['clean_tweet'] = df1['clean_tweet'].apply(lambda x: \" \".join([w for w in x.split() if len(w)>3]))\n",
        "df1['clean_tweet'][0]"
      ],
      "metadata": {
        "colab": {
          "base_uri": "https://localhost:8080/",
          "height": 53
        },
        "id": "29sBL_xpogIL",
        "outputId": "3dcf78d3-5f5f-4e94-dbf2-dc28abd2de80"
      },
      "execution_count": 54,
      "outputs": [
        {
          "output_type": "execute_result",
          "data": {
            "text/plain": [
              "'#RishiSunak #BritishHindu paternal #Pakistani Punjabi origin legally #Pakistan Origin Card holder issued probably also concurrently holding India through Indian wife mother Also there issue with wife Indian citizenship'"
            ],
            "application/vnd.google.colaboratory.intrinsic+json": {
              "type": "string"
            }
          },
          "metadata": {},
          "execution_count": 54
        }
      ]
    },
    {
      "cell_type": "code",
      "source": [
        "# individual words considered as tokens\n",
        "tokenized_tweet = df1['clean_tweet'].apply(lambda x: x.split())\n",
        "tokenized_tweet.head()"
      ],
      "metadata": {
        "colab": {
          "base_uri": "https://localhost:8080/"
        },
        "id": "C0cInj4-pE28",
        "outputId": "8599e081-bb28-443a-b6f7-ccf884b5a2a1"
      },
      "execution_count": 55,
      "outputs": [
        {
          "output_type": "execute_result",
          "data": {
            "text/plain": [
              "0    [#RishiSunak, #BritishHindu, paternal, #Pakist...\n",
              "1    [#RishiSunak, richest, Tory, history, wife, bi...\n",
              "2                                        [#RishiSunak]\n",
              "3    [mountain, full, money, knowledge, proven, the...\n",
              "4    [Chance, been, given, didn, fulfilled, duty, p...\n",
              "Name: clean_tweet, dtype: object"
            ]
          },
          "metadata": {},
          "execution_count": 55
        }
      ]
    },
    {
      "cell_type": "markdown",
      "source": [
        "##Stemming words with NLTK\n",
        "\n",
        "Stemming is the process of producing morphological variants of a root/base word. Stemming programs are commonly referred to as stemming algorithms or stemmers. A stemming algorithm reduces the words “chocolates”, “chocolatey”, and “choco” to the root word, “chocolate” and “retrieval”, “retrieved”, “retrieves” reduce to the stem “retrieve”."
      ],
      "metadata": {
        "id": "2lr51rdOrtyt"
      }
    },
    {
      "cell_type": "code",
      "source": [
        "# stem the words\n",
        "from nltk.stem.porter import PorterStemmer\n",
        "stemmer = PorterStemmer()\n",
        "\n",
        "tokenized_tweet = tokenized_tweet.apply(lambda sentence: [stemmer.stem(word) for word in sentence])\n",
        "tokenized_tweet.head()"
      ],
      "metadata": {
        "colab": {
          "base_uri": "https://localhost:8080/"
        },
        "id": "CGLprqMbv9M0",
        "outputId": "0297699f-c2b3-4012-c561-3c027a2579f2"
      },
      "execution_count": 56,
      "outputs": [
        {
          "output_type": "execute_result",
          "data": {
            "text/plain": [
              "0    [#rishisunak, #britishhindu, patern, #pakistan...\n",
              "1    [#rishisunak, richest, tori, histori, wife, bi...\n",
              "2                                        [#rishisunak]\n",
              "3    [mountain, full, money, knowledg, proven, theo...\n",
              "4    [chanc, been, given, didn, fulfil, duti, peopl...\n",
              "Name: clean_tweet, dtype: object"
            ]
          },
          "metadata": {},
          "execution_count": 56
        }
      ]
    },
    {
      "cell_type": "code",
      "source": [
        "# combine words into single sentence\n",
        "for i in range(len(tokenized_tweet)):\n",
        "    tokenized_tweet[i] = \" \".join(tokenized_tweet[i])\n",
        "    \n",
        "df1['clean_tweet'] = tokenized_tweet\n",
        "df1.head()"
      ],
      "metadata": {
        "colab": {
          "base_uri": "https://localhost:8080/",
          "height": 206
        },
        "id": "122UBtQoxHcF",
        "outputId": "52e2a3ab-9e4d-4cf0-cf7b-cb1873e33c8d"
      },
      "execution_count": 57,
      "outputs": [
        {
          "output_type": "execute_result",
          "data": {
            "text/plain": [
              "                    id                                               text  \\\n",
              "0  1584696134693711873  @BritIndianVoice @RishiSunak #RishiSunak is #B...   \n",
              "1  1584696057841098752  #RishiSunak is the richest Tory MP in history....   \n",
              "2  1584695906091536385                                        #RishiSunak   \n",
              "3  1584695822658441217  A mountain full of money and a knowledge of pr...   \n",
              "4  1584695640696946688  @trussliz @RishiSunak Chance was been given as...   \n",
              "\n",
              "                                         clean_tweet  \n",
              "0  #rishisunak #britishhindu patern #pakistani pu...  \n",
              "1  #rishisunak richest tori histori wife billiona...  \n",
              "2                                        #rishisunak  \n",
              "3  mountain full money knowledg proven theori wit...  \n",
              "4  chanc been given didn fulfil duti peopl late #...  "
            ],
            "text/html": [
              "\n",
              "  <div id=\"df-6b4733ab-df00-43f3-9ad0-5ade1026c13d\">\n",
              "    <div class=\"colab-df-container\">\n",
              "      <div>\n",
              "<style scoped>\n",
              "    .dataframe tbody tr th:only-of-type {\n",
              "        vertical-align: middle;\n",
              "    }\n",
              "\n",
              "    .dataframe tbody tr th {\n",
              "        vertical-align: top;\n",
              "    }\n",
              "\n",
              "    .dataframe thead th {\n",
              "        text-align: right;\n",
              "    }\n",
              "</style>\n",
              "<table border=\"1\" class=\"dataframe\">\n",
              "  <thead>\n",
              "    <tr style=\"text-align: right;\">\n",
              "      <th></th>\n",
              "      <th>id</th>\n",
              "      <th>text</th>\n",
              "      <th>clean_tweet</th>\n",
              "    </tr>\n",
              "  </thead>\n",
              "  <tbody>\n",
              "    <tr>\n",
              "      <th>0</th>\n",
              "      <td>1584696134693711873</td>\n",
              "      <td>@BritIndianVoice @RishiSunak #RishiSunak is #B...</td>\n",
              "      <td>#rishisunak #britishhindu patern #pakistani pu...</td>\n",
              "    </tr>\n",
              "    <tr>\n",
              "      <th>1</th>\n",
              "      <td>1584696057841098752</td>\n",
              "      <td>#RishiSunak is the richest Tory MP in history....</td>\n",
              "      <td>#rishisunak richest tori histori wife billiona...</td>\n",
              "    </tr>\n",
              "    <tr>\n",
              "      <th>2</th>\n",
              "      <td>1584695906091536385</td>\n",
              "      <td>#RishiSunak</td>\n",
              "      <td>#rishisunak</td>\n",
              "    </tr>\n",
              "    <tr>\n",
              "      <th>3</th>\n",
              "      <td>1584695822658441217</td>\n",
              "      <td>A mountain full of money and a knowledge of pr...</td>\n",
              "      <td>mountain full money knowledg proven theori wit...</td>\n",
              "    </tr>\n",
              "    <tr>\n",
              "      <th>4</th>\n",
              "      <td>1584695640696946688</td>\n",
              "      <td>@trussliz @RishiSunak Chance was been given as...</td>\n",
              "      <td>chanc been given didn fulfil duti peopl late #...</td>\n",
              "    </tr>\n",
              "  </tbody>\n",
              "</table>\n",
              "</div>\n",
              "      <button class=\"colab-df-convert\" onclick=\"convertToInteractive('df-6b4733ab-df00-43f3-9ad0-5ade1026c13d')\"\n",
              "              title=\"Convert this dataframe to an interactive table.\"\n",
              "              style=\"display:none;\">\n",
              "        \n",
              "  <svg xmlns=\"http://www.w3.org/2000/svg\" height=\"24px\"viewBox=\"0 0 24 24\"\n",
              "       width=\"24px\">\n",
              "    <path d=\"M0 0h24v24H0V0z\" fill=\"none\"/>\n",
              "    <path d=\"M18.56 5.44l.94 2.06.94-2.06 2.06-.94-2.06-.94-.94-2.06-.94 2.06-2.06.94zm-11 1L8.5 8.5l.94-2.06 2.06-.94-2.06-.94L8.5 2.5l-.94 2.06-2.06.94zm10 10l.94 2.06.94-2.06 2.06-.94-2.06-.94-.94-2.06-.94 2.06-2.06.94z\"/><path d=\"M17.41 7.96l-1.37-1.37c-.4-.4-.92-.59-1.43-.59-.52 0-1.04.2-1.43.59L10.3 9.45l-7.72 7.72c-.78.78-.78 2.05 0 2.83L4 21.41c.39.39.9.59 1.41.59.51 0 1.02-.2 1.41-.59l7.78-7.78 2.81-2.81c.8-.78.8-2.07 0-2.86zM5.41 20L4 18.59l7.72-7.72 1.47 1.35L5.41 20z\"/>\n",
              "  </svg>\n",
              "      </button>\n",
              "      \n",
              "  <style>\n",
              "    .colab-df-container {\n",
              "      display:flex;\n",
              "      flex-wrap:wrap;\n",
              "      gap: 12px;\n",
              "    }\n",
              "\n",
              "    .colab-df-convert {\n",
              "      background-color: #E8F0FE;\n",
              "      border: none;\n",
              "      border-radius: 50%;\n",
              "      cursor: pointer;\n",
              "      display: none;\n",
              "      fill: #1967D2;\n",
              "      height: 32px;\n",
              "      padding: 0 0 0 0;\n",
              "      width: 32px;\n",
              "    }\n",
              "\n",
              "    .colab-df-convert:hover {\n",
              "      background-color: #E2EBFA;\n",
              "      box-shadow: 0px 1px 2px rgba(60, 64, 67, 0.3), 0px 1px 3px 1px rgba(60, 64, 67, 0.15);\n",
              "      fill: #174EA6;\n",
              "    }\n",
              "\n",
              "    [theme=dark] .colab-df-convert {\n",
              "      background-color: #3B4455;\n",
              "      fill: #D2E3FC;\n",
              "    }\n",
              "\n",
              "    [theme=dark] .colab-df-convert:hover {\n",
              "      background-color: #434B5C;\n",
              "      box-shadow: 0px 1px 3px 1px rgba(0, 0, 0, 0.15);\n",
              "      filter: drop-shadow(0px 1px 2px rgba(0, 0, 0, 0.3));\n",
              "      fill: #FFFFFF;\n",
              "    }\n",
              "  </style>\n",
              "\n",
              "      <script>\n",
              "        const buttonEl =\n",
              "          document.querySelector('#df-6b4733ab-df00-43f3-9ad0-5ade1026c13d button.colab-df-convert');\n",
              "        buttonEl.style.display =\n",
              "          google.colab.kernel.accessAllowed ? 'block' : 'none';\n",
              "\n",
              "        async function convertToInteractive(key) {\n",
              "          const element = document.querySelector('#df-6b4733ab-df00-43f3-9ad0-5ade1026c13d');\n",
              "          const dataTable =\n",
              "            await google.colab.kernel.invokeFunction('convertToInteractive',\n",
              "                                                     [key], {});\n",
              "          if (!dataTable) return;\n",
              "\n",
              "          const docLinkHtml = 'Like what you see? Visit the ' +\n",
              "            '<a target=\"_blank\" href=https://colab.research.google.com/notebooks/data_table.ipynb>data table notebook</a>'\n",
              "            + ' to learn more about interactive tables.';\n",
              "          element.innerHTML = '';\n",
              "          dataTable['output_type'] = 'display_data';\n",
              "          await google.colab.output.renderOutput(dataTable, element);\n",
              "          const docLink = document.createElement('div');\n",
              "          docLink.innerHTML = docLinkHtml;\n",
              "          element.appendChild(docLink);\n",
              "        }\n",
              "      </script>\n",
              "    </div>\n",
              "  </div>\n",
              "  "
            ]
          },
          "metadata": {},
          "execution_count": 57
        }
      ]
    },
    {
      "cell_type": "code",
      "source": [
        "# checking the first item of our clean tweet\n",
        "df1['clean_tweet'][0]"
      ],
      "metadata": {
        "colab": {
          "base_uri": "https://localhost:8080/",
          "height": 53
        },
        "id": "_NLGA1yxz6R-",
        "outputId": "a2c09e5f-0940-4d2f-f138-9dbcedcad937"
      },
      "execution_count": 58,
      "outputs": [
        {
          "output_type": "execute_result",
          "data": {
            "text/plain": [
              "'#rishisunak #britishhindu patern #pakistani punjabi origin legal #pakistan origin card holder issu probabl also concurr hold india through indian wife mother also there issu with wife indian citizenship'"
            ],
            "application/vnd.google.colaboratory.intrinsic+json": {
              "type": "string"
            }
          },
          "metadata": {},
          "execution_count": 58
        }
      ]
    },
    {
      "cell_type": "code",
      "source": [
        "df1.info()"
      ],
      "metadata": {
        "colab": {
          "base_uri": "https://localhost:8080/"
        },
        "id": "NaZyvAZVYXQW",
        "outputId": "484124c3-4baf-46ae-fd8a-8195e252b871"
      },
      "execution_count": 64,
      "outputs": [
        {
          "output_type": "stream",
          "name": "stdout",
          "text": [
            "<class 'pandas.core.frame.DataFrame'>\n",
            "RangeIndex: 113578 entries, 0 to 113577\n",
            "Data columns (total 3 columns):\n",
            " #   Column       Non-Null Count   Dtype \n",
            "---  ------       --------------   ----- \n",
            " 0   id           113578 non-null  int64 \n",
            " 1   text         113578 non-null  object\n",
            " 2   clean_tweet  113578 non-null  object\n",
            "dtypes: int64(1), object(2)\n",
            "memory usage: 2.6+ MB\n"
          ]
        }
      ]
    },
    {
      "cell_type": "markdown",
      "source": [
        "## Sentiment scoring using VADER\n",
        "\n",
        "VADER(Valence Aware Dictionary and sEntiment Reasonar) Bag of Words approach\n",
        "\n",
        "This approach essentially takes all words in a sentence and it has a value of either positive/neagetive/neutral for each of those words and it just does a math equation for all the words and add up to tell us how positive,negative or neutral the statements is based on all those words\n",
        "\n",
        "Note: this approach doen not account for relationship between the words ,which is pretty important for human speech but at least its a good start.\n",
        "\n",
        "we will use NLTK's SentimentIntensityAnalyzer to get the neg/neu/pos scores of the text.\n",
        "* This uses a Bag of word approach:\n",
        "  1. Stopwords are removed.\n",
        "  2. each word is scored and combined to a total score.\n",
        "\n",
        "  \n"
      ],
      "metadata": {
        "id": "pzFo3tueMJNH"
      }
    },
    {
      "cell_type": "code",
      "source": [
        "import nltk\n",
        "nltk.download('vader_lexicon')"
      ],
      "metadata": {
        "colab": {
          "base_uri": "https://localhost:8080/"
        },
        "id": "I5_YqvhJQCG_",
        "outputId": "dae1770a-605b-48bd-e234-6bf958602143"
      },
      "execution_count": 59,
      "outputs": [
        {
          "output_type": "stream",
          "name": "stderr",
          "text": [
            "[nltk_data] Downloading package vader_lexicon to /root/nltk_data...\n",
            "[nltk_data]   Package vader_lexicon is already up-to-date!\n"
          ]
        },
        {
          "output_type": "execute_result",
          "data": {
            "text/plain": [
              "True"
            ]
          },
          "metadata": {},
          "execution_count": 59
        }
      ]
    },
    {
      "cell_type": "code",
      "source": [
        "from nltk.sentiment import SentimentIntensityAnalyzer\n",
        "from tqdm.notebook import tqdm # progress bar tracker\n",
        "\n",
        "sia = SentimentIntensityAnalyzer()"
      ],
      "metadata": {
        "id": "ZgFkKlSNMHm0"
      },
      "execution_count": 60,
      "outputs": []
    },
    {
      "cell_type": "code",
      "source": [
        "# an example on some random sentence\n",
        "sia.polarity_scores(\"I am so happy,i will hit someone very hard\")"
      ],
      "metadata": {
        "colab": {
          "base_uri": "https://localhost:8080/"
        },
        "id": "iPPqwlNiQOX_",
        "outputId": "b8d7579d-1147-4e02-afe7-b9c8b2ff0852"
      },
      "execution_count": 61,
      "outputs": [
        {
          "output_type": "execute_result",
          "data": {
            "text/plain": [
              "{'neg': 0.195, 'neu': 0.805, 'pos': 0.0, 'compound': -0.1761}"
            ]
          },
          "metadata": {},
          "execution_count": 61
        }
      ]
    },
    {
      "cell_type": "code",
      "source": [
        "sia.polarity_scores(\"today is my lucky day,i will get some rewards\")"
      ],
      "metadata": {
        "colab": {
          "base_uri": "https://localhost:8080/"
        },
        "id": "NJ0w0m0jQ0lD",
        "outputId": "31255192-2ff5-41c2-aad1-a2168d2ca49e"
      },
      "execution_count": 62,
      "outputs": [
        {
          "output_type": "execute_result",
          "data": {
            "text/plain": [
              "{'neg': 0.0, 'neu': 0.543, 'pos': 0.457, 'compound': 0.7096}"
            ]
          },
          "metadata": {},
          "execution_count": 62
        }
      ]
    },
    {
      "cell_type": "markdown",
      "source": [
        "## Running the polarity scores on the entire dataframe df1."
      ],
      "metadata": {
        "id": "_s8W7lUhRvn2"
      }
    },
    {
      "cell_type": "code",
      "source": [
        "sia.polarity_scores(df1['clean_tweet'][0])"
      ],
      "metadata": {
        "colab": {
          "base_uri": "https://localhost:8080/"
        },
        "id": "-uu2x-UxYjvo",
        "outputId": "d34f1df9-6bd9-4e90-f1c9-c35b7a0e4635"
      },
      "execution_count": 65,
      "outputs": [
        {
          "output_type": "execute_result",
          "data": {
            "text/plain": [
              "{'neg': 0.0, 'neu': 0.947, 'pos': 0.053, 'compound': 0.128}"
            ]
          },
          "metadata": {},
          "execution_count": 65
        }
      ]
    },
    {
      "cell_type": "code",
      "source": [
        "polarity_scores = []\n",
        "for sentence in df1['clean_tweet']:\n",
        "    polarity_scores.append(sia.polarity_scores(sentence))\n",
        "\n",
        "id = list(df1['id'])\n",
        "\n",
        "# making a dictionary which will store the polarity scores of each sentence with id as key\n",
        "res = dict(zip(id,polarity_scores))"
      ],
      "metadata": {
        "id": "QchmqZNiYvwj"
      },
      "execution_count": 71,
      "outputs": []
    },
    {
      "cell_type": "code",
      "source": [
        "# lets store the output in a dataframe \n",
        "vaders = pd.DataFrame(res).T\n",
        "vaders = vaders.reset_index().rename(columns ={'index':'id'})\n",
        "# merging vaders datframe with our original dataframe\n",
        "vaders = df1.merge(vaders,how = 'left')"
      ],
      "metadata": {
        "id": "uxTVFg7YbK5y"
      },
      "execution_count": 81,
      "outputs": []
    },
    {
      "cell_type": "code",
      "source": [
        "# now we have sentiment score and metadata\n",
        "vaders.head(10)"
      ],
      "metadata": {
        "colab": {
          "base_uri": "https://localhost:8080/",
          "height": 363
        },
        "id": "cI2J6U2ac0Sa",
        "outputId": "926e7362-5656-48a7-c68e-dbcc7b754e1b"
      },
      "execution_count": 83,
      "outputs": [
        {
          "output_type": "execute_result",
          "data": {
            "text/plain": [
              "                    id                                               text  \\\n",
              "0  1584696134693711873  @BritIndianVoice @RishiSunak #RishiSunak is #B...   \n",
              "1  1584696057841098752  #RishiSunak is the richest Tory MP in history....   \n",
              "2  1584695906091536385                                        #RishiSunak   \n",
              "3  1584695822658441217  A mountain full of money and a knowledge of pr...   \n",
              "4  1584695640696946688  @trussliz @RishiSunak Chance was been given as...   \n",
              "5  1584695280238465025  @RishiSunak has added a new meaning to the who...   \n",
              "6  1584694868646821888  Why are we remembering #WinstonChurchill when ...   \n",
              "7  1584694808794497026  I see a lot of white ass is getting burnt... \\...   \n",
              "8  1584694622538076164  Now when hearing the name of UK feels like Uni...   \n",
              "9  1584694437695090689  Time Wheel - Now It's an Indian to Look after ...   \n",
              "\n",
              "                                         clean_tweet    neg    neu    pos  \\\n",
              "0  #rishisunak #britishhindu patern #pakistani pu...  0.000  0.947  0.053   \n",
              "1  #rishisunak richest tori histori wife billiona...  0.000  0.815  0.185   \n",
              "2                                        #rishisunak  0.000  1.000  0.000   \n",
              "3  mountain full money knowledg proven theori wit...  0.068  0.728  0.204   \n",
              "4  chanc been given didn fulfil duti peopl late #...  0.000  0.664  0.336   \n",
              "5            ad mean whole pipelin thing #rishisunak  0.000  1.000  0.000   \n",
              "6  rememb #winstonchurchil when #rishisunak go br...  0.262  0.738  0.000   \n",
              "7                        white get burnt #rishisunak  0.000  1.000  0.000   \n",
              "8  when hear name feel like unit kailasa #rishisu...  0.000  0.815  0.185   \n",
              "9  time wheel indian look after british #rishisun...  0.000  1.000  0.000   \n",
              "\n",
              "   compound  \n",
              "0    0.1280  \n",
              "1    0.5267  \n",
              "2    0.0000  \n",
              "3    0.5859  \n",
              "4    0.7964  \n",
              "5    0.0000  \n",
              "6   -0.5994  \n",
              "7    0.0000  \n",
              "8    0.3612  \n",
              "9    0.0000  "
            ],
            "text/html": [
              "\n",
              "  <div id=\"df-29adf57d-f13d-4736-8c26-3295a437411c\">\n",
              "    <div class=\"colab-df-container\">\n",
              "      <div>\n",
              "<style scoped>\n",
              "    .dataframe tbody tr th:only-of-type {\n",
              "        vertical-align: middle;\n",
              "    }\n",
              "\n",
              "    .dataframe tbody tr th {\n",
              "        vertical-align: top;\n",
              "    }\n",
              "\n",
              "    .dataframe thead th {\n",
              "        text-align: right;\n",
              "    }\n",
              "</style>\n",
              "<table border=\"1\" class=\"dataframe\">\n",
              "  <thead>\n",
              "    <tr style=\"text-align: right;\">\n",
              "      <th></th>\n",
              "      <th>id</th>\n",
              "      <th>text</th>\n",
              "      <th>clean_tweet</th>\n",
              "      <th>neg</th>\n",
              "      <th>neu</th>\n",
              "      <th>pos</th>\n",
              "      <th>compound</th>\n",
              "    </tr>\n",
              "  </thead>\n",
              "  <tbody>\n",
              "    <tr>\n",
              "      <th>0</th>\n",
              "      <td>1584696134693711873</td>\n",
              "      <td>@BritIndianVoice @RishiSunak #RishiSunak is #B...</td>\n",
              "      <td>#rishisunak #britishhindu patern #pakistani pu...</td>\n",
              "      <td>0.000</td>\n",
              "      <td>0.947</td>\n",
              "      <td>0.053</td>\n",
              "      <td>0.1280</td>\n",
              "    </tr>\n",
              "    <tr>\n",
              "      <th>1</th>\n",
              "      <td>1584696057841098752</td>\n",
              "      <td>#RishiSunak is the richest Tory MP in history....</td>\n",
              "      <td>#rishisunak richest tori histori wife billiona...</td>\n",
              "      <td>0.000</td>\n",
              "      <td>0.815</td>\n",
              "      <td>0.185</td>\n",
              "      <td>0.5267</td>\n",
              "    </tr>\n",
              "    <tr>\n",
              "      <th>2</th>\n",
              "      <td>1584695906091536385</td>\n",
              "      <td>#RishiSunak</td>\n",
              "      <td>#rishisunak</td>\n",
              "      <td>0.000</td>\n",
              "      <td>1.000</td>\n",
              "      <td>0.000</td>\n",
              "      <td>0.0000</td>\n",
              "    </tr>\n",
              "    <tr>\n",
              "      <th>3</th>\n",
              "      <td>1584695822658441217</td>\n",
              "      <td>A mountain full of money and a knowledge of pr...</td>\n",
              "      <td>mountain full money knowledg proven theori wit...</td>\n",
              "      <td>0.068</td>\n",
              "      <td>0.728</td>\n",
              "      <td>0.204</td>\n",
              "      <td>0.5859</td>\n",
              "    </tr>\n",
              "    <tr>\n",
              "      <th>4</th>\n",
              "      <td>1584695640696946688</td>\n",
              "      <td>@trussliz @RishiSunak Chance was been given as...</td>\n",
              "      <td>chanc been given didn fulfil duti peopl late #...</td>\n",
              "      <td>0.000</td>\n",
              "      <td>0.664</td>\n",
              "      <td>0.336</td>\n",
              "      <td>0.7964</td>\n",
              "    </tr>\n",
              "    <tr>\n",
              "      <th>5</th>\n",
              "      <td>1584695280238465025</td>\n",
              "      <td>@RishiSunak has added a new meaning to the who...</td>\n",
              "      <td>ad mean whole pipelin thing #rishisunak</td>\n",
              "      <td>0.000</td>\n",
              "      <td>1.000</td>\n",
              "      <td>0.000</td>\n",
              "      <td>0.0000</td>\n",
              "    </tr>\n",
              "    <tr>\n",
              "      <th>6</th>\n",
              "      <td>1584694868646821888</td>\n",
              "      <td>Why are we remembering #WinstonChurchill when ...</td>\n",
              "      <td>rememb #winstonchurchil when #rishisunak go br...</td>\n",
              "      <td>0.262</td>\n",
              "      <td>0.738</td>\n",
              "      <td>0.000</td>\n",
              "      <td>-0.5994</td>\n",
              "    </tr>\n",
              "    <tr>\n",
              "      <th>7</th>\n",
              "      <td>1584694808794497026</td>\n",
              "      <td>I see a lot of white ass is getting burnt... \\...</td>\n",
              "      <td>white get burnt #rishisunak</td>\n",
              "      <td>0.000</td>\n",
              "      <td>1.000</td>\n",
              "      <td>0.000</td>\n",
              "      <td>0.0000</td>\n",
              "    </tr>\n",
              "    <tr>\n",
              "      <th>8</th>\n",
              "      <td>1584694622538076164</td>\n",
              "      <td>Now when hearing the name of UK feels like Uni...</td>\n",
              "      <td>when hear name feel like unit kailasa #rishisu...</td>\n",
              "      <td>0.000</td>\n",
              "      <td>0.815</td>\n",
              "      <td>0.185</td>\n",
              "      <td>0.3612</td>\n",
              "    </tr>\n",
              "    <tr>\n",
              "      <th>9</th>\n",
              "      <td>1584694437695090689</td>\n",
              "      <td>Time Wheel - Now It's an Indian to Look after ...</td>\n",
              "      <td>time wheel indian look after british #rishisun...</td>\n",
              "      <td>0.000</td>\n",
              "      <td>1.000</td>\n",
              "      <td>0.000</td>\n",
              "      <td>0.0000</td>\n",
              "    </tr>\n",
              "  </tbody>\n",
              "</table>\n",
              "</div>\n",
              "      <button class=\"colab-df-convert\" onclick=\"convertToInteractive('df-29adf57d-f13d-4736-8c26-3295a437411c')\"\n",
              "              title=\"Convert this dataframe to an interactive table.\"\n",
              "              style=\"display:none;\">\n",
              "        \n",
              "  <svg xmlns=\"http://www.w3.org/2000/svg\" height=\"24px\"viewBox=\"0 0 24 24\"\n",
              "       width=\"24px\">\n",
              "    <path d=\"M0 0h24v24H0V0z\" fill=\"none\"/>\n",
              "    <path d=\"M18.56 5.44l.94 2.06.94-2.06 2.06-.94-2.06-.94-.94-2.06-.94 2.06-2.06.94zm-11 1L8.5 8.5l.94-2.06 2.06-.94-2.06-.94L8.5 2.5l-.94 2.06-2.06.94zm10 10l.94 2.06.94-2.06 2.06-.94-2.06-.94-.94-2.06-.94 2.06-2.06.94z\"/><path d=\"M17.41 7.96l-1.37-1.37c-.4-.4-.92-.59-1.43-.59-.52 0-1.04.2-1.43.59L10.3 9.45l-7.72 7.72c-.78.78-.78 2.05 0 2.83L4 21.41c.39.39.9.59 1.41.59.51 0 1.02-.2 1.41-.59l7.78-7.78 2.81-2.81c.8-.78.8-2.07 0-2.86zM5.41 20L4 18.59l7.72-7.72 1.47 1.35L5.41 20z\"/>\n",
              "  </svg>\n",
              "      </button>\n",
              "      \n",
              "  <style>\n",
              "    .colab-df-container {\n",
              "      display:flex;\n",
              "      flex-wrap:wrap;\n",
              "      gap: 12px;\n",
              "    }\n",
              "\n",
              "    .colab-df-convert {\n",
              "      background-color: #E8F0FE;\n",
              "      border: none;\n",
              "      border-radius: 50%;\n",
              "      cursor: pointer;\n",
              "      display: none;\n",
              "      fill: #1967D2;\n",
              "      height: 32px;\n",
              "      padding: 0 0 0 0;\n",
              "      width: 32px;\n",
              "    }\n",
              "\n",
              "    .colab-df-convert:hover {\n",
              "      background-color: #E2EBFA;\n",
              "      box-shadow: 0px 1px 2px rgba(60, 64, 67, 0.3), 0px 1px 3px 1px rgba(60, 64, 67, 0.15);\n",
              "      fill: #174EA6;\n",
              "    }\n",
              "\n",
              "    [theme=dark] .colab-df-convert {\n",
              "      background-color: #3B4455;\n",
              "      fill: #D2E3FC;\n",
              "    }\n",
              "\n",
              "    [theme=dark] .colab-df-convert:hover {\n",
              "      background-color: #434B5C;\n",
              "      box-shadow: 0px 1px 3px 1px rgba(0, 0, 0, 0.15);\n",
              "      filter: drop-shadow(0px 1px 2px rgba(0, 0, 0, 0.3));\n",
              "      fill: #FFFFFF;\n",
              "    }\n",
              "  </style>\n",
              "\n",
              "      <script>\n",
              "        const buttonEl =\n",
              "          document.querySelector('#df-29adf57d-f13d-4736-8c26-3295a437411c button.colab-df-convert');\n",
              "        buttonEl.style.display =\n",
              "          google.colab.kernel.accessAllowed ? 'block' : 'none';\n",
              "\n",
              "        async function convertToInteractive(key) {\n",
              "          const element = document.querySelector('#df-29adf57d-f13d-4736-8c26-3295a437411c');\n",
              "          const dataTable =\n",
              "            await google.colab.kernel.invokeFunction('convertToInteractive',\n",
              "                                                     [key], {});\n",
              "          if (!dataTable) return;\n",
              "\n",
              "          const docLinkHtml = 'Like what you see? Visit the ' +\n",
              "            '<a target=\"_blank\" href=https://colab.research.google.com/notebooks/data_table.ipynb>data table notebook</a>'\n",
              "            + ' to learn more about interactive tables.';\n",
              "          element.innerHTML = '';\n",
              "          dataTable['output_type'] = 'display_data';\n",
              "          await google.colab.output.renderOutput(dataTable, element);\n",
              "          const docLink = document.createElement('div');\n",
              "          docLink.innerHTML = docLinkHtml;\n",
              "          element.appendChild(docLink);\n",
              "        }\n",
              "      </script>\n",
              "    </div>\n",
              "  </div>\n",
              "  "
            ]
          },
          "metadata": {},
          "execution_count": 83
        }
      ]
    },
    {
      "cell_type": "markdown",
      "source": [
        "## Quick EDA from our vaders dataframe"
      ],
      "metadata": {
        "id": "jDUwFgIpeN6V"
      }
    },
    {
      "cell_type": "markdown",
      "source": [
        "## Top 10 negative tweets"
      ],
      "metadata": {
        "id": "1SGxN3VveZHb"
      }
    }
  ]
}